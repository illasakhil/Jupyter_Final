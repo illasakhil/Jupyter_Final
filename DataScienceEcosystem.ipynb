{
 "cells": [
  {
   "cell_type": "markdown",
   "id": "26223744-5b3e-446a-a167-b5272ea284a0",
   "metadata": {},
   "source": [
    "# Data Science Tools and Ecosystem"
   ]
  },
  {
   "cell_type": "markdown",
   "id": "1d6172aa-a640-421c-8473-2dca2e51c866",
   "metadata": {},
   "source": [
    "In this notebook, Data Science Tools and Ecosystems are summarized."
   ]
  },
  {
   "cell_type": "markdown",
   "id": "6362658b-7212-42ab-ac95-4ac74bf3becd",
   "metadata": {},
   "source": [
    "__Objectives__\n",
    "\n",
    "- Popular languages for Data Science.\n",
    "- Popular libraries for Data Science\n",
    "- Tools for Data Science"
   ]
  },
  {
   "cell_type": "markdown",
   "id": "1fdba537-d72c-4f28-bc8c-504e782474fc",
   "metadata": {},
   "source": [
    "Some of the popular languages that Data Scientists use are:\n",
    "\n",
    "1. SQL\n",
    "2. Python\n",
    "3. R\n",
    "4. Scala\n",
    "5. C++\n",
    "6. Java"
   ]
  },
  {
   "cell_type": "markdown",
   "id": "27b00a11-ba1a-495d-b355-a99977add2d8",
   "metadata": {},
   "source": [
    "Some of the commonly used libraries used by Data Scientists include:\n",
    "\n",
    "1. Pandas\n",
    "2. NumPy\n",
    "3. Matplotlib\n",
    "4. Seaborn"
   ]
  },
  {
   "cell_type": "markdown",
   "id": "45d3989b-56ee-4026-91da-b9e44e8b1f9a",
   "metadata": {},
   "source": [
    "### Data Science Tools\n",
    "_________\n",
    "JupyterLab\n",
    "\n",
    "RStudio\n",
    "\n",
    "Spyder"
   ]
  },
  {
   "cell_type": "markdown",
   "id": "6b6d0d08-4cc2-4bd6-bed8-fc258ca84bc3",
   "metadata": {
    "tags": []
   },
   "source": [
    "### Below are a few examples of evaluating arithmetic expressions in Python"
   ]
  },
  {
   "cell_type": "code",
   "execution_count": 3,
   "id": "56ab67af-7a21-439a-a476-405efc12fc6d",
   "metadata": {
    "tags": []
   },
   "outputs": [
    {
     "data": {
      "text/plain": [
       "17"
      ]
     },
     "execution_count": 3,
     "metadata": {},
     "output_type": "execute_result"
    }
   ],
   "source": [
    "# This is a simple arithmetic expression to multiply then add integers\n",
    "\n",
    "(3*4)+5"
   ]
  },
  {
   "cell_type": "code",
   "execution_count": 4,
   "id": "dd776c0e-1f8a-457f-b212-e2e442ff6c7d",
   "metadata": {
    "tags": []
   },
   "outputs": [
    {
     "data": {
      "text/plain": [
       "3.3333333333333335"
      ]
     },
     "execution_count": 4,
     "metadata": {},
     "output_type": "execute_result"
    }
   ],
   "source": [
    "# This will convert 200 minutes to hours by dividing by 60\n",
    "\n",
    "200/60"
   ]
  },
  {
   "cell_type": "markdown",
   "id": "5abd1145-27c4-495b-ad5f-21f67e3ecdb4",
   "metadata": {},
   "source": [
    "## Author\n",
    "Prerit Karnavat"
   ]
  },
  {
   "cell_type": "code",
   "execution_count": null,
   "id": "c51fec04-ad12-43bd-ad37-e04afda092e9",
   "metadata": {},
   "outputs": [],
   "source": []
  }
 ],
 "metadata": {
  "kernelspec": {
   "display_name": "Python",
   "language": "python",
   "name": "conda-env-python-py"
  },
  "language_info": {
   "codemirror_mode": {
    "name": "ipython",
    "version": 3
   },
   "file_extension": ".py",
   "mimetype": "text/x-python",
   "name": "python",
   "nbconvert_exporter": "python",
   "pygments_lexer": "ipython3",
   "version": "3.7.12"
  }
 },
 "nbformat": 4,
 "nbformat_minor": 5
}
